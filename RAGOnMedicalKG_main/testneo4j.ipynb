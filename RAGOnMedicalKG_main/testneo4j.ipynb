{
 "cells": [
  {
   "attachments": {
    "image.png": {
     "image/png": "[encoded data removed]"
    }
   },
   "cell_type": "markdown",
   "metadata": {},
   "source": [
    "![image.png](attachment:image.png)"
   ]
  },
  {
   "cell_type": "markdown",
   "metadata": {},
   "source": [
    "# 记得用提示命令符"
   ]
  },
  {
   "cell_type": "code",
   "execution_count": 20,
   "metadata": {},
   "outputs": [],
   "source": [
    "import os\n",
    "import json\n",
    "from py2neo import Graph,Node\n",
    "\n",
    "g=Graph(\"bolt://localhost:7687\",auth=(\"BigChuang\",\"BigChuang\"))\n",
    "\n",
    "  "
   ]
  },
  {
   "cell_type": "code",
   "execution_count": 27,
   "metadata": {},
   "outputs": [
    {
     "name": "stdout",
     "output_type": "stream",
     "text": [
      "(耳鸣)-[:acompany_with {name: '\\u5e76\\u53d1\\u75c7'}]->(咽鼓管阻塞)\n",
      "(Node('Disease', cause='1.外耳道阻塞病变中耳急慢性炎症、镫骨固定等，耳鸣多呈低调与耳聋程度不一致。2.内耳感受器病变和听神经损害 听毛细胞受刺激而引发异常的\\u3000听觉信号可能是产生耳鸣的最主要的原因毛细胞的激惹状态(去极化)可因短暂的缺氧而诱发出现早期或一过性耳鸣。如毛细胞变性以及听纤毛与盖膜接触不良，则可出现持久性耳鸣。如为局限性毛细胞损伤，耳鸣的性质接近于纯音耳蜗神经纤维如受到机械性刺激可直接作用于神经细胞而引发异常的神经脉冲，引起节律性耳鸣。在正常情况下耳蜗的传出通路具有调节神经传导的作用，该束的任何障碍亦可引起耳鸣。常见于脑干的缺血性疾病。\\n1.鼓室神经丛反射由于鼓室神经丛属于中枢神经丛通过舌咽神经、三叉神经及颈动脉交感神经纤维的联系，接受兴奋刺激后向中枢额上回传导形成耳鸣。2.内脏慢性病眼内听动脉的血管运动神经纤维来自颈下神经节与第一神经节融合为星状神经节通过迷走神经与腹部脏器发生联系，因此内脏产生神经冲动，可引起内耳血管痉挛性收缩或扩张改变内耳的血液供应，引起耳鸣。', cure_department=['五官科', '耳鼻喉科'], cure_lasttime='7-14天', cure_way=['药物治疗', '支持性治疗'], cured_prob='60%', desc='耳鸣（Tinnitus）是一种在没有外界声、电刺激条件下，人耳主观感受到的声音。值得注意的是，耳鸣是发生于听觉系统的一种错觉，是一种症状而不是疾病。有些人常感到耳朵里有一些特殊的声音如嗡嗡、嘶嘶或尖锐的哨声等，但周围却找不到相应的声源，这种情况即为耳鸣。耳鸣使人心烦意乱、坐卧不安，严重者可影响正常的生活和工作。', easy_get='好发于青年男女', name='耳鸣', prevent='1、噪声：暴震声和长时间的噪声接触，均能导致听力下降和耳鸣产生，对高危人群(工作在高强度噪声环境中)要注意噪声防护。如减少噪声源或佩戴防护耳罩、耳塞等。此外，要注意不要长时间，大音量在有噪声的环境中使用随身听耳机。\\n2、精神紧张和疲劳：当长期处于精神高度紧张和在身体疲劳状态时均易使耳鸣加重。因此适当调整工作节奏，放松耳鸣患者的情绪，转移对耳鸣的注意力都是有益的。\\n3、特殊药物：耳鸣患者由于其他疾病就诊时，请不要忘记告诉医师，自己患有耳鸣。因为有些药物会使您已有的耳鸣症状加剧。\\n4、不良习惯：咖啡因和酒精常常可使耳鸣症状加重：吸烟可以使血氧下降，而内耳毛细胞又是一种对氧极其敏感的细胞，所以缺氧会对毛细胞造成损害，因此要注意改变不良习惯。'), Node('Disease', cause='1.Glasscock及House认为系咽鼓管软骨软化所致，咽鼓管软骨软化原因不明。\\n2.腭帆张肌肌无力或咽腭神经麻痹，使咽口不能主动开放。', cure_department=['五官科', '耳鼻喉科'], cure_lasttime='10天', cure_way=['药物治疗', '支持性治疗'], cured_prob='80%', desc='咽鼓管软骨段在解剖上正常，但其机能发生障碍，即咽鼓管咽口被动开放而不能主动开放。与一般炎性水肿所致的咽口阻塞有所区别。\\n该病的治疗过去都采用中耳负压治疗法治之，如穿刺，插穿引流，仅能获得短暂疗效，不能达到长期治愈。Misurya于1976年首次采用腭帆张肌腱缩短术，即病人取父子卧垂头位，在第三磨牙后内方翼钩处，用1%利多卡因作粘膜下局部浸润麻醉，于翼钩端外侧做2厘米弧形切口，暴露翼钩，并沿翼钩向深层内外两侧剥离出腭帆张肌腱，用3°尼龙线在翼钩两侧穿过腭帆张肌腱，包绕翼钩，予以缩短结扎，一般可缩短0.5厘米，症状多能解除。', easy_get='无特定人群', name='咽鼓管阻塞', prevent='无有效预防措施。'))\n",
      "耳鸣\n",
      "----------\n",
      "prevent 1、噪声：暴震声和长时间的噪声接触，均能导致听力下降和耳鸣产生，对高危人群(工作在高强度噪声环境中)要注意噪声防护。如减少噪声源或佩戴防护耳罩、耳塞等。此外，要注意不要长时间，大音量在有噪声的环境中使用随身听耳机。\n",
      "2、精神紧张和疲劳：当长期处于精神高度紧张和在身体疲劳状态时均易使耳鸣加重。因此适当调整工作节奏，放松耳鸣患者的情绪，转移对耳鸣的注意力都是有益的。\n",
      "3、特殊药物：耳鸣患者由于其他疾病就诊时，请不要忘记告诉医师，自己患有耳鸣。因为有些药物会使您已有的耳鸣症状加剧。\n",
      "4、不良习惯：咖啡因和酒精常常可使耳鸣症状加重：吸烟可以使血氧下降，而内耳毛细胞又是一种对氧极其敏感的细胞，所以缺氧会对毛细胞造成损害，因此要注意改变不良习惯。\n",
      "----------\n",
      "cure_way ['药物治疗', '支持性治疗']\n",
      "----------\n",
      "name 耳鸣\n",
      "----------\n",
      "cause 1.外耳道阻塞病变中耳急慢性炎症、镫骨固定等，耳鸣多呈低调与耳聋程度不一致。2.内耳感受器病变和听神经损害 听毛细胞受刺激而引发异常的　听觉信号可能是产生耳鸣的最主要的原因毛细胞的激惹状态(去极化)可因短暂的缺氧而诱发出现早期或一过性耳鸣。如毛细胞变性以及听纤毛与盖膜接触不良，则可出现持久性耳鸣。如为局限性毛细胞损伤，耳鸣的性质接近于纯音耳蜗神经纤维如受到机械性刺激可直接作用于神经细胞而引发异常的神经脉冲，引起节律性耳鸣。在正常情况下耳蜗的传出通路具有调节神经传导的作用，该束的任何障碍亦可引起耳鸣。常见于脑干的缺血性疾病。\n",
      "1.鼓室神经丛反射由于鼓室神经丛属于中枢神经丛通过舌咽神经、三叉神经及颈动脉交感神经纤维的联系，接受兴奋刺激后向中枢额上回传导形成耳鸣。2.内脏慢性病眼内听动脉的血管运动神经纤维来自颈下神经节与第一神经节融合为星状神经节通过迷走神经与腹部脏器发生联系，因此内脏产生神经冲动，可引起内耳血管痉挛性收缩或扩张改变内耳的血液供应，引起耳鸣。\n",
      "----------\n",
      "cure_lasttime 7-14天\n",
      "----------\n",
      "cured_prob 60%\n",
      "----------\n",
      "cure_department ['五官科', '耳鼻喉科']\n",
      "----------\n",
      "easy_get 好发于青年男女\n",
      "----------\n",
      "desc 耳鸣（Tinnitus）是一种在没有外界声、电刺激条件下，人耳主观感受到的声音。值得注意的是，耳鸣是发生于听觉系统的一种错觉，是一种症状而不是疾病。有些人常感到耳朵里有一些特殊的声音如嗡嗡、嘶嘶或尖锐的哨声等，但周围却找不到相应的声源，这种情况即为耳鸣。耳鸣使人心烦意乱、坐卧不安，严重者可影响正常的生活和工作。\n",
      "咽鼓管阻塞\n",
      "----------\n",
      "cause 1.Glasscock及House认为系咽鼓管软骨软化所致，咽鼓管软骨软化原因不明。\n",
      "2.腭帆张肌肌无力或咽腭神经麻痹，使咽口不能主动开放。\n",
      "----------\n",
      "cure_department ['五官科', '耳鼻喉科']\n",
      "----------\n",
      "desc 咽鼓管软骨段在解剖上正常，但其机能发生障碍，即咽鼓管咽口被动开放而不能主动开放。与一般炎性水肿所致的咽口阻塞有所区别。\n",
      "该病的治疗过去都采用中耳负压治疗法治之，如穿刺，插穿引流，仅能获得短暂疗效，不能达到长期治愈。Misurya于1976年首次采用腭帆张肌腱缩短术，即病人取父子卧垂头位，在第三磨牙后内方翼钩处，用1%利多卡因作粘膜下局部浸润麻醉，于翼钩端外侧做2厘米弧形切口，暴露翼钩，并沿翼钩向深层内外两侧剥离出腭帆张肌腱，用3°尼龙线在翼钩两侧穿过腭帆张肌腱，包绕翼钩，予以缩短结扎，一般可缩短0.5厘米，症状多能解除。\n",
      "----------\n",
      "cured_prob 80%\n",
      "----------\n",
      "name 咽鼓管阻塞\n",
      "----------\n",
      "prevent 无有效预防措施。\n",
      "----------\n",
      "cure_way ['药物治疗', '支持性治疗']\n",
      "----------\n",
      "cure_lasttime 10天\n",
      "----------\n",
      "easy_get 无特定人群\n",
      "(acompany_with(Node('Disease', cause='1.外耳道阻塞病变中耳急慢性炎症、镫骨固定等，耳鸣多呈低调与耳聋程度不一致。2.内耳感受器病变和听神经损害 听毛细胞受刺激而引发异常的\\u3000听觉信号可能是产生耳鸣的最主要的原因毛细胞的激惹状态(去极化)可因短暂的缺氧而诱发出现早期或一过性耳鸣。如毛细胞变性以及听纤毛与盖膜接触不良，则可出现持久性耳鸣。如为局限性毛细胞损伤，耳鸣的性质接近于纯音耳蜗神经纤维如受到机械性刺激可直接作用于神经细胞而引发异常的神经脉冲，引起节律性耳鸣。在正常情况下耳蜗的传出通路具有调节神经传导的作用，该束的任何障碍亦可引起耳鸣。常见于脑干的缺血性疾病。\\n1.鼓室神经丛反射由于鼓室神经丛属于中枢神经丛通过舌咽神经、三叉神经及颈动脉交感神经纤维的联系，接受兴奋刺激后向中枢额上回传导形成耳鸣。2.内脏慢性病眼内听动脉的血管运动神经纤维来自颈下神经节与第一神经节融合为星状神经节通过迷走神经与腹部脏器发生联系，因此内脏产生神经冲动，可引起内耳血管痉挛性收缩或扩张改变内耳的血液供应，引起耳鸣。', cure_department=['五官科', '耳鼻喉科'], cure_lasttime='7-14天', cure_way=['药物治疗', '支持性治疗'], cured_prob='60%', desc='耳鸣（Tinnitus）是一种在没有外界声、电刺激条件下，人耳主观感受到的声音。值得注意的是，耳鸣是发生于听觉系统的一种错觉，是一种症状而不是疾病。有些人常感到耳朵里有一些特殊的声音如嗡嗡、嘶嘶或尖锐的哨声等，但周围却找不到相应的声源，这种情况即为耳鸣。耳鸣使人心烦意乱、坐卧不安，严重者可影响正常的生活和工作。', easy_get='好发于青年男女', name='耳鸣', prevent='1、噪声：暴震声和长时间的噪声接触，均能导致听力下降和耳鸣产生，对高危人群(工作在高强度噪声环境中)要注意噪声防护。如减少噪声源或佩戴防护耳罩、耳塞等。此外，要注意不要长时间，大音量在有噪声的环境中使用随身听耳机。\\n2、精神紧张和疲劳：当长期处于精神高度紧张和在身体疲劳状态时均易使耳鸣加重。因此适当调整工作节奏，放松耳鸣患者的情绪，转移对耳鸣的注意力都是有益的。\\n3、特殊药物：耳鸣患者由于其他疾病就诊时，请不要忘记告诉医师，自己患有耳鸣。因为有些药物会使您已有的耳鸣症状加剧。\\n4、不良习惯：咖啡因和酒精常常可使耳鸣症状加重：吸烟可以使血氧下降，而内耳毛细胞又是一种对氧极其敏感的细胞，所以缺氧会对毛细胞造成损害，因此要注意改变不良习惯。'), Node('Disease', cause='1.Glasscock及House认为系咽鼓管软骨软化所致，咽鼓管软骨软化原因不明。\\n2.腭帆张肌肌无力或咽腭神经麻痹，使咽口不能主动开放。', cure_department=['五官科', '耳鼻喉科'], cure_lasttime='10天', cure_way=['药物治疗', '支持性治疗'], cured_prob='80%', desc='咽鼓管软骨段在解剖上正常，但其机能发生障碍，即咽鼓管咽口被动开放而不能主动开放。与一般炎性水肿所致的咽口阻塞有所区别。\\n该病的治疗过去都采用中耳负压治疗法治之，如穿刺，插穿引流，仅能获得短暂疗效，不能达到长期治愈。Misurya于1976年首次采用腭帆张肌腱缩短术，即病人取父子卧垂头位，在第三磨牙后内方翼钩处，用1%利多卡因作粘膜下局部浸润麻醉，于翼钩端外侧做2厘米弧形切口，暴露翼钩，并沿翼钩向深层内外两侧剥离出腭帆张肌腱，用3°尼龙线在翼钩两侧穿过腭帆张肌腱，包绕翼钩，予以缩短结扎，一般可缩短0.5厘米，症状多能解除。', easy_get='无特定人群', name='咽鼓管阻塞', prevent='无有效预防措施。'), name='并发症'),)\n"
     ]
    }
   ],
   "source": [
    "\n",
    "results = g.run(\"MATCH p=(m:Disease)-[r*..1]-(n) where m.name = '耳鸣' return p\").data()\n",
    "for result in results:\n",
    "    print(result[\"p\"])\n",
    "    nodes=result[\"p\"].nodes\n",
    "    print(nodes)\n",
    "    for node in nodes:\n",
    "        print(node['name'])\n",
    "        for k,v in node.items():\n",
    "            print(\"----------\")\n",
    "            print(k,v)\n",
    "    rels=result[\"p\"].relationships\n",
    "    print(rels)\n",
    "    break"
   ]
  }
 ],
 "metadata": {
  "kernelspec": {
   "display_name": "python311",
   "language": "python",
   "name": "python3"
  },
  "language_info": {
   "codemirror_mode": {
    "name": "ipython",
    "version": 3
   },
   "file_extension": ".py",
   "mimetype": "text/x-python",
   "name": "python",
   "nbconvert_exporter": "python",
   "pygments_lexer": "ipython3",
   "version": "3.11.9"
  }
 },
 "nbformat": 4,
 "nbformat_minor": 2
}
